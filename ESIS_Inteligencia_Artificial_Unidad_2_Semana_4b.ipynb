{
  "cells": [
    {
      "cell_type": "markdown",
      "metadata": {
        "id": "view-in-github",
        "colab_type": "text"
      },
      "source": [
        "<a href=\"https://colab.research.google.com/github/Kazuky1141/GRUPO-03/blob/master/ESIS_Inteligencia_Artificial_Unidad_2_Semana_4b.ipynb\" target=\"_parent\"><img src=\"https://colab.research.google.com/assets/colab-badge.svg\" alt=\"Open In Colab\"/></a>"
      ]
    },
    {
      "cell_type": "markdown",
      "metadata": {
        "id": "GyRFI0IJCsuu"
      },
      "source": [
        "# 4b. Despliegue de su modelo\n",
        "Ahora que tenemos un modelo bien entrenado, es hora de utilizarlo. En este ejercicio, expondremos nuevas imágenes a nuestro modelo y detectaremos las letras correctas del alfabeto del lenguaje de signos. ¡Vamos a empezar!"
      ]
    },
    {
      "cell_type": "markdown",
      "metadata": {
        "id": "wdYYMU1WCsuv"
      },
      "source": [
        "## 4b.1 Objetivos"
      ]
    },
    {
      "cell_type": "markdown",
      "metadata": {
        "id": "SeXBHUIjCsuv"
      },
      "source": [
        "* Cargar desde disco un modelo ya entrenado\n",
        "* Reformatear imágenes para un modelo entrenado con imágenes de formato diferente.\n",
        "* Realizar inferencias con imágenes nuevas, nunca vistas por el modelo entrenado y evaluar su rendimiento."
      ]
    },
    {
      "cell_type": "code",
      "execution_count": 1,
      "metadata": {
        "id": "idwYaoghaqIp",
        "outputId": "e75d62f9-5caf-4472-9505-a17a79444ce1",
        "colab": {
          "base_uri": "https://localhost:8080/"
        }
      },
      "outputs": [
        {
          "output_type": "execute_result",
          "data": {
            "text/plain": [
              "False"
            ]
          },
          "metadata": {},
          "execution_count": 1
        }
      ],
      "source": [
        "import pandas as pd\n",
        "import torch\n",
        "import torch.nn as nn\n",
        "from torch.optim import Adam\n",
        "from torch.utils.data import Dataset, DataLoader\n",
        "import torchvision.io as tv_io\n",
        "import torchvision.transforms.v2 as transforms\n",
        "import torchvision.transforms.functional as F\n",
        "import matplotlib.pyplot as plt\n",
        "\n",
        "device = torch.device(\"cuda\" if torch.cuda.is_available() else \"cpu\")\n",
        "torch.cuda.is_available()"
      ]
    },
    {
      "cell_type": "markdown",
      "metadata": {
        "id": "xo-pr5-zCsuv"
      },
      "source": [
        "## 4b.2 Cargando el Modelo\n",
        "\n",
        "Ahora que estamos en un nuevo cuaderno, vamos a cargar el modelo guardado que hemos entrenado. Nuestro guardado del ejercicio anterior creó una carpeta llamada «asl_model». Podemos cargar el modelo seleccionando la misma carpeta."
      ]
    },
    {
      "cell_type": "markdown",
      "metadata": {
        "id": "xpLTn1ZUL9-Y"
      },
      "source": [
        "Dado que nuestro modelo utiliza un [módulo personalizado](https://pytorch.org/tutorials/beginner/examples_nn/two_layer_net_module.html), necesitaremos cargar el código de esa clase. Hemos guardado una copia del código en [utils.py](./uitls.py)."
      ]
    },
    {
      "cell_type": "code",
      "source": [
        "!apt-get install -y p7zip-full\n",
        "!wget https://github.com/ichaparroc/IA-EPIS/raw/refs/heads/main/ASL.7z -O ASL.7Z\n",
        "!7z x ASL.7Z\n",
        "!rm -f ASL.7Z\n",
        "!rm -f sign_mnist_train.csv\n",
        "!rm -f sign_mnist_valid.csv"
      ],
      "metadata": {
        "id": "RYqCsmeOM3rv",
        "outputId": "55437515-b964-40d7-ffba-97a409da283f",
        "colab": {
          "base_uri": "https://localhost:8080/"
        }
      },
      "execution_count": 2,
      "outputs": [
        {
          "output_type": "stream",
          "name": "stdout",
          "text": [
            "Reading package lists... Done\n",
            "Building dependency tree... Done\n",
            "Reading state information... Done\n",
            "p7zip-full is already the newest version (16.02+dfsg-8).\n",
            "0 upgraded, 0 newly installed, 0 to remove and 34 not upgraded.\n",
            "--2025-04-25 21:58:31--  https://github.com/ichaparroc/IA-EPIS/raw/refs/heads/main/ASL.7z\n",
            "Resolving github.com (github.com)... 140.82.112.3\n",
            "Connecting to github.com (github.com)|140.82.112.3|:443... connected.\n",
            "HTTP request sent, awaiting response... 302 Found\n",
            "Location: https://raw.githubusercontent.com/ichaparroc/IA-EPIS/refs/heads/main/ASL.7z [following]\n",
            "--2025-04-25 21:58:31--  https://raw.githubusercontent.com/ichaparroc/IA-EPIS/refs/heads/main/ASL.7z\n",
            "Resolving raw.githubusercontent.com (raw.githubusercontent.com)... 185.199.109.133, 185.199.111.133, 185.199.110.133, ...\n",
            "Connecting to raw.githubusercontent.com (raw.githubusercontent.com)|185.199.109.133|:443... connected.\n",
            "HTTP request sent, awaiting response... 200 OK\n",
            "Length: 24400318 (23M) [application/octet-stream]\n",
            "Saving to: ‘ASL.7Z’\n",
            "\n",
            "ASL.7Z              100%[===================>]  23.27M  --.-KB/s    in 0.1s    \n",
            "\n",
            "2025-04-25 21:58:32 (186 MB/s) - ‘ASL.7Z’ saved [24400318/24400318]\n",
            "\n",
            "\n",
            "7-Zip [64] 16.02 : Copyright (c) 1999-2016 Igor Pavlov : 2016-05-21\n",
            "p7zip Version 16.02 (locale=en_US.UTF-8,Utf16=on,HugeFiles=on,64 bits,2 CPUs Intel(R) Xeon(R) CPU @ 2.20GHz (406F0),ASM,AES-NI)\n",
            "\n",
            "Scanning the drive for archives:\n",
            "  0M Scan\b\b\b\b\b\b\b\b\b         \b\b\b\b\b\b\b\b\b1 file, 24400318 bytes (24 MiB)\n",
            "\n",
            "Extracting archive: ASL.7Z\n",
            "--\n",
            "Path = ASL.7Z\n",
            "Type = 7z\n",
            "Physical Size = 24400318\n",
            "Headers Size = 253\n",
            "Method = LZMA2:20\n",
            "Solid = +\n",
            "Blocks = 1\n",
            "\n",
            "  0%\b\b\b\b    \b\b\b\b  9% 2 - sign_mnist_train.csv\b\b\b\b\b\b\b\b\b\b\b\b\b\b\b\b\b\b\b\b\b\b\b\b\b\b\b\b\b                             \b\b\b\b\b\b\b\b\b\b\b\b\b\b\b\b\b\b\b\b\b\b\b\b\b\b\b\b\b 20% 2 - sign_mnist_train.csv\b\b\b\b\b\b\b\b\b\b\b\b\b\b\b\b\b\b\b\b\b\b\b\b\b\b\b\b\b                             \b\b\b\b\b\b\b\b\b\b\b\b\b\b\b\b\b\b\b\b\b\b\b\b\b\b\b\b\b 31% 2 - sign_mnist_train.csv\b\b\b\b\b\b\b\b\b\b\b\b\b\b\b\b\b\b\b\b\b\b\b\b\b\b\b\b\b                             \b\b\b\b\b\b\b\b\b\b\b\b\b\b\b\b\b\b\b\b\b\b\b\b\b\b\b\b\b 41% 2 - sign_mnist_train.csv\b\b\b\b\b\b\b\b\b\b\b\b\b\b\b\b\b\b\b\b\b\b\b\b\b\b\b\b\b                             \b\b\b\b\b\b\b\b\b\b\b\b\b\b\b\b\b\b\b\b\b\b\b\b\b\b\b\b\b 52% 2 - sign_mnist_train.csv\b\b\b\b\b\b\b\b\b\b\b\b\b\b\b\b\b\b\b\b\b\b\b\b\b\b\b\b\b                             \b\b\b\b\b\b\b\b\b\b\b\b\b\b\b\b\b\b\b\b\b\b\b\b\b\b\b\b\b 63% 2 - sign_mnist_train.csv\b\b\b\b\b\b\b\b\b\b\b\b\b\b\b\b\b\b\b\b\b\b\b\b\b\b\b\b\b                             \b\b\b\b\b\b\b\b\b\b\b\b\b\b\b\b\b\b\b\b\b\b\b\b\b\b\b\b\b 74% 2 - sign_mnist_train.csv\b\b\b\b\b\b\b\b\b\b\b\b\b\b\b\b\b\b\b\b\b\b\b\b\b\b\b\b\b                             \b\b\b\b\b\b\b\b\b\b\b\b\b\b\b\b\b\b\b\b\b\b\b\b\b\b\b\b\b 84% 3 - sign_mnist_valid.csv\b\b\b\b\b\b\b\b\b\b\b\b\b\b\b\b\b\b\b\b\b\b\b\b\b\b\b\b\b                             \b\b\b\b\b\b\b\b\b\b\b\b\b\b\b\b\b\b\b\b\b\b\b\b\b\b\b\b\b 91% 3 - sign_mnist_valid.csv\b\b\b\b\b\b\b\b\b\b\b\b\b\b\b\b\b\b\b\b\b\b\b\b\b\b\b\b\b                             \b\b\b\b\b\b\b\b\b\b\b\b\b\b\b\b\b\b\b\b\b\b\b\b\b\b\b\b\bEverything is Ok\n",
            "\n",
            "Files: 5\n",
            "Size:       105169191\n",
            "Compressed: 24400318\n"
          ]
        }
      ]
    },
    {
      "cell_type": "code",
      "execution_count": 3,
      "metadata": {
        "id": "jiI87fNVZdRl"
      },
      "outputs": [],
      "source": [
        "from utils import MyConvBlock"
      ]
    },
    {
      "cell_type": "markdown",
      "metadata": {
        "id": "OYbZ4ZRbL9-a"
      },
      "source": [
        "Ahora que tenemos una definición para `MyConvBlock`, podemos usar [torch.load](https://pytorch.org/docs/stable/generated/torch.load.html) para cargar un modelo desde una ruta. Podemos usar `map_location` para especificar el dispositivo. Cuando imprimimos el modelo, ¿se ve igual que en el último cuaderno?"
      ]
    },
    {
      "cell_type": "code",
      "execution_count": 4,
      "metadata": {
        "id": "-Xy1JuL-Csuv",
        "outputId": "cd7611ab-7230-4e98-d96f-ffef1ae05907",
        "colab": {
          "base_uri": "https://localhost:8080/"
        }
      },
      "outputs": [
        {
          "output_type": "execute_result",
          "data": {
            "text/plain": [
              "Sequential(\n",
              "  (0): MyConvBlock(\n",
              "    (model): Sequential(\n",
              "      (0): Conv2d(1, 25, kernel_size=(3, 3), stride=(1, 1), padding=(1, 1))\n",
              "      (1): BatchNorm2d(25, eps=1e-05, momentum=0.1, affine=True, track_running_stats=True)\n",
              "      (2): ReLU()\n",
              "      (3): Dropout(p=0, inplace=False)\n",
              "      (4): MaxPool2d(kernel_size=2, stride=2, padding=0, dilation=1, ceil_mode=False)\n",
              "    )\n",
              "  )\n",
              "  (1): MyConvBlock(\n",
              "    (model): Sequential(\n",
              "      (0): Conv2d(25, 50, kernel_size=(3, 3), stride=(1, 1), padding=(1, 1))\n",
              "      (1): BatchNorm2d(50, eps=1e-05, momentum=0.1, affine=True, track_running_stats=True)\n",
              "      (2): ReLU()\n",
              "      (3): Dropout(p=0.2, inplace=False)\n",
              "      (4): MaxPool2d(kernel_size=2, stride=2, padding=0, dilation=1, ceil_mode=False)\n",
              "    )\n",
              "  )\n",
              "  (2): MyConvBlock(\n",
              "    (model): Sequential(\n",
              "      (0): Conv2d(50, 75, kernel_size=(3, 3), stride=(1, 1), padding=(1, 1))\n",
              "      (1): BatchNorm2d(75, eps=1e-05, momentum=0.1, affine=True, track_running_stats=True)\n",
              "      (2): ReLU()\n",
              "      (3): Dropout(p=0, inplace=False)\n",
              "      (4): MaxPool2d(kernel_size=2, stride=2, padding=0, dilation=1, ceil_mode=False)\n",
              "    )\n",
              "  )\n",
              "  (3): Flatten(start_dim=1, end_dim=-1)\n",
              "  (4): Linear(in_features=675, out_features=512, bias=True)\n",
              "  (5): Dropout(p=0.3, inplace=False)\n",
              "  (6): ReLU()\n",
              "  (7): Linear(in_features=512, out_features=24, bias=True)\n",
              ")"
            ]
          },
          "metadata": {},
          "execution_count": 4
        }
      ],
      "source": [
        "model = torch.load('model.pth', map_location=device, weights_only=False)\n",
        "model"
      ]
    },
    {
      "cell_type": "markdown",
      "metadata": {
        "id": "WIjqbFCFCsuv"
      },
      "source": [
        "También podemos verificar si el modelo está en nuestra GPU."
      ]
    },
    {
      "cell_type": "code",
      "execution_count": 5,
      "metadata": {
        "id": "_ulCst9GCsuw",
        "outputId": "c5fff3f0-5b35-45e0-d881-183bd8c97147",
        "colab": {
          "base_uri": "https://localhost:8080/"
        }
      },
      "outputs": [
        {
          "output_type": "execute_result",
          "data": {
            "text/plain": [
              "device(type='cpu')"
            ]
          },
          "metadata": {},
          "execution_count": 5
        }
      ],
      "source": [
        "next(model.parameters()).device"
      ]
    },
    {
      "cell_type": "markdown",
      "metadata": {
        "id": "pBBneFIXCsuw"
      },
      "source": [
        "## 4b.3 Preparar una imagen para el modelo"
      ]
    },
    {
      "cell_type": "markdown",
      "metadata": {
        "id": "gffCLeacCsuw"
      },
      "source": [
        "Ahora es el momento de utilizar el modelo para hacer predicciones sobre nuevas imágenes que nunca ha visto antes. Esto también se llama inferencia. Tenemos un conjunto de imágenes en la carpeta `data/asl_images`. Intenta abrirla utilizando el navegador de la izquierda y explora las imágenes.\n",
        "\n",
        "Te darás cuenta de que las imágenes que tenemos son de mucha mayor resolución que las imágenes de nuestro conjunto de datos. También son en color. Recuerda que nuestras imágenes en el conjunto de datos eran de 28x28 píxeles y en escala de grises. Es importante tener en cuenta que siempre que hacemos predicciones con un modelo, la entrada debe coincidir con la forma de los datos con los que se entrenó el modelo. Para este modelo, el conjunto de datos de entrenamiento tenía la forma: (27455, 28, 28, 1). Esto correspondía a 27455 imágenes de 28 por 28 píxeles cada una con un canal de color (escala de grises)."
      ]
    },
    {
      "cell_type": "markdown",
      "metadata": {
        "id": "UXeujDRFCsuw"
      },
      "source": [
        "### 4b.3.1 Mostrar las imágenes"
      ]
    },
    {
      "cell_type": "markdown",
      "metadata": {
        "id": "8gLvKQ1yCsuw"
      },
      "source": [
        "Cuando utilicemos nuestro modelo para hacer predicciones sobre nuevas imágenes, será útil mostrar también la imagen. Para ello, podemos utilizar la biblioteca matplotlib."
      ]
    },
    {
      "cell_type": "code",
      "execution_count": 6,
      "metadata": {
        "id": "qzzai3QZCsuw"
      },
      "outputs": [],
      "source": [
        "import matplotlib.pyplot as plt\n",
        "import matplotlib.image as mpimg\n",
        "\n",
        "def show_image(image_path):\n",
        "    image = mpimg.imread(image_path)\n",
        "    plt.imshow(image, cmap='gray')"
      ]
    },
    {
      "cell_type": "code",
      "execution_count": 7,
      "metadata": {
        "id": "ZFzwvkalCsuw",
        "outputId": "66c1ee6c-7d9a-49ec-87de-0949eade510c",
        "colab": {
          "base_uri": "https://localhost:8080/",
          "height": 434
        }
      },
      "outputs": [
        {
          "output_type": "display_data",
          "data": {
            "text/plain": [
              "<Figure size 640x480 with 1 Axes>"
            ],
            "image/png": "[encoded data removed]"
          },
          "metadata": {}
        }
      ],
      "source": [
        "show_image('b.png')"
      ]
    },
    {
      "cell_type": "markdown",
      "metadata": {
        "id": "ORPUII6qCsux"
      },
      "source": [
        "### 4b.3.2 Escalado de las imágenes"
      ]
    },
    {
      "cell_type": "markdown",
      "metadata": {
        "id": "eYcawjxlCsux"
      },
      "source": [
        "Las imágenes de nuestro conjunto de datos eran de 28x28 píxeles y en escala de grises. Necesitamos asegurarnos de pasar el mismo tamaño e imágenes en escala de grises a nuestro método para la predicción. Hay algunas formas de editar imágenes con Python, pero TorchVision también tiene la función [read_image](https://pytorch.org/vision/stable/generated/torchvision.io.read_image.html). Podemos hacerle saber qué tipo de imagen leer con [ImageReadMode](https://pytorch.org/vision/stable/generated/torchvision.io.ImageReadMode.html#torchvision.io.ImageReadMode)."
      ]
    },
    {
      "cell_type": "code",
      "execution_count": 8,
      "metadata": {
        "id": "lDJu6JrEffRP",
        "outputId": "988662f3-f6aa-4570-d754-2679b5f5b06e",
        "colab": {
          "base_uri": "https://localhost:8080/"
        }
      },
      "outputs": [
        {
          "output_type": "execute_result",
          "data": {
            "text/plain": [
              "tensor([[[247, 223, 178,  ..., 223, 231, 238],\n",
              "         [245, 221, 178,  ..., 213, 223, 232],\n",
              "         [244, 220, 177,  ..., 204, 217, 228],\n",
              "         ...,\n",
              "         [247, 243, 238,  ..., 223, 231, 238],\n",
              "         [249, 246, 243,  ..., 232, 238, 243],\n",
              "         [250, 248, 246,  ..., 240, 243, 246]]], dtype=torch.uint8)"
            ]
          },
          "metadata": {},
          "execution_count": 8
        }
      ],
      "source": [
        "image = tv_io.read_image('b.png', tv_io.ImageReadMode.GRAY)\n",
        "image"
      ]
    },
    {
      "cell_type": "markdown",
      "metadata": {
        "id": "nY6jdx40L9-f"
      },
      "source": [
        "Fijémonos en la forma de la imagen."
      ]
    },
    {
      "cell_type": "code",
      "execution_count": 9,
      "metadata": {
        "id": "8iJ4A8YagRvP",
        "outputId": "b268748a-e2d0-475b-e5e3-7c73d84cc962",
        "colab": {
          "base_uri": "https://localhost:8080/"
        }
      },
      "outputs": [
        {
          "output_type": "execute_result",
          "data": {
            "text/plain": [
              "torch.Size([1, 184, 186])"
            ]
          },
          "metadata": {},
          "execution_count": 9
        }
      ],
      "source": [
        "image.shape"
      ]
    },
    {
      "cell_type": "markdown",
      "metadata": {
        "id": "yTbsFGCOL9-g"
      },
      "source": [
        "Esta imagen es mucho más grande que con la que entrenamos. Podemos utilizar [TorchVision](https://pytorch.org/vision/stable/index.html)'s [Transforms](https://pytorch.org/vision/0.9/transforms.html) de nuevo para obtener los datos en la forma que nuestro modelo espera.\n",
        "\n",
        "Lo haremos:\n",
        "* Convertiremos la imagen a float con [ToDtype](https://pytorch.org/vision/stable/generated/torchvision.transforms.v2.ToDtype.html)\n",
        "  * Estableceremos `scale` a `True` para convertir de [0, 255] a [0, 1].\n",
        "* [Redimensionar](https://pytorch.org/vision/stable/generated/torchvision.transforms.v2.Resize.html#torchvision.transforms.v2.Resize) la imagen para que sea de 28 x 28 píxeles\n",
        "* Convertir las imágenes a [Escala de grises](https://pytorch.org/vision/stable/generated/torchvision.transforms.v2.Grayscale.html#torchvision.transforms.v2.Grayscale)\n",
        "  * Este paso no hace nada ya que nuestros modelos ya están en escala de grises, pero lo hemos añadido aquí para mostrar una forma alternativa de obtener imágenes en escala de grises."
      ]
    },
    {
      "cell_type": "code",
      "execution_count": 10,
      "metadata": {
        "id": "lNp6Q9cBe8Xw"
      },
      "outputs": [],
      "source": [
        "IMG_WIDTH = 28\n",
        "IMG_HEIGHT = 28\n",
        "\n",
        "preprocess_trans = transforms.Compose([\n",
        "    transforms.ToDtype(torch.float32, scale=True), # Converts [0, 255] to [0, 1]\n",
        "    transforms.Resize((IMG_WIDTH, IMG_HEIGHT)),\n",
        "    transforms.Grayscale()  # From Color to Gray\n",
        "])"
      ]
    },
    {
      "cell_type": "markdown",
      "metadata": {
        "id": "Sy8QgFYaL9-i"
      },
      "source": [
        "Probemos `preprocess_trans` en una imagen para asegurarnos de que funciona correctamente:"
      ]
    },
    {
      "cell_type": "code",
      "execution_count": 11,
      "metadata": {
        "id": "BBS7SjnBhIe6",
        "outputId": "bc7f3425-c71d-46b5-bf4e-383f2db10f93",
        "colab": {
          "base_uri": "https://localhost:8080/"
        }
      },
      "outputs": [
        {
          "output_type": "execute_result",
          "data": {
            "text/plain": [
              "tensor([[[0.6960, 0.6279, 0.6348, 0.6493, 0.6584, 0.6599, 0.6638, 0.6630,\n",
              "          0.6652, 0.6677, 0.6711, 0.6696, 0.6661, 0.6677, 0.7103, 0.6559,\n",
              "          0.6369, 0.6507, 0.6464, 0.6379, 0.6293, 0.6216, 0.6139, 0.6074,\n",
              "          0.5984, 0.5895, 0.5836, 0.6977],\n",
              "         [0.7013, 0.6388, 0.6480, 0.6578, 0.6647, 0.6687, 0.6709, 0.6734,\n",
              "          0.6746, 0.6794, 0.6814, 0.6784, 0.6902, 0.6801, 0.7648, 0.6606,\n",
              "          0.5610, 0.6348, 0.6418, 0.6509, 0.6417, 0.6308, 0.6252, 0.6197,\n",
              "          0.6095, 0.6007, 0.5923, 0.6773],\n",
              "         [0.7061, 0.6479, 0.6588, 0.6668, 0.6743, 0.6811, 0.6845, 0.6848,\n",
              "          0.6872, 0.6898, 0.6913, 0.6909, 0.7671, 0.6833, 0.6945, 0.6803,\n",
              "          0.4720, 0.6061, 0.5686, 0.6548, 0.6566, 0.6471, 0.6380, 0.6273,\n",
              "          0.6198, 0.6124, 0.6078, 0.6837],\n",
              "         [0.7165, 0.6603, 0.6699, 0.6770, 0.6821, 0.6880, 0.6959, 0.7001,\n",
              "          0.7027, 0.7014, 0.7009, 0.7041, 0.8257, 0.6885, 0.6387, 0.7202,\n",
              "          0.4938, 0.6614, 0.5266, 0.6351, 0.6649, 0.6595, 0.6516, 0.6407,\n",
              "          0.6298, 0.6250, 0.6173, 0.6882],\n",
              "         [0.7256, 0.6709, 0.6799, 0.6854, 0.6910, 0.6969, 0.7043, 0.7103,\n",
              "          0.7102, 0.7125, 0.7133, 0.7139, 0.8611, 0.7188, 0.6335, 0.7608,\n",
              "          0.5303, 0.6766, 0.5499, 0.6246, 0.6762, 0.6699, 0.6645, 0.6554,\n",
              "          0.6432, 0.6351, 0.6240, 0.6924],\n",
              "         [0.7330, 0.6805, 0.6897, 0.6953, 0.7027, 0.7094, 0.7154, 0.7206,\n",
              "          0.7205, 0.7473, 0.7414, 0.6798, 0.8693, 0.7476, 0.5998, 0.7269,\n",
              "          0.5397, 0.7189, 0.6083, 0.6100, 0.6883, 0.6822, 0.6731, 0.6665,\n",
              "          0.6588, 0.6521, 0.6393, 0.6989],\n",
              "         [0.7381, 0.6909, 0.7028, 0.7075, 0.7144, 0.7201, 0.7251, 0.7277,\n",
              "          0.7299, 0.7945, 0.7620, 0.6435, 0.8501, 0.7202, 0.5661, 0.6856,\n",
              "          0.5410, 0.7322, 0.6136, 0.5906, 0.7007, 0.6934, 0.6836, 0.6775,\n",
              "          0.6707, 0.6633, 0.6509, 0.7029],\n",
              "         [0.7454, 0.7010, 0.7137, 0.7207, 0.7251, 0.7304, 0.7372, 0.7406,\n",
              "          0.7431, 0.8278, 0.7804, 0.6528, 0.8622, 0.7322, 0.5645, 0.7076,\n",
              "          0.5461, 0.7335, 0.6120, 0.5866, 0.7123, 0.7053, 0.6987, 0.6888,\n",
              "          0.6808, 0.6742, 0.6646, 0.7099],\n",
              "         [0.7548, 0.7075, 0.7196, 0.7268, 0.7351, 0.7442, 0.7504, 0.7523,\n",
              "          0.7529, 0.8489, 0.8071, 0.6684, 0.8756, 0.7723, 0.5502, 0.6870,\n",
              "          0.5366, 0.7457, 0.6330, 0.6015, 0.7237, 0.7172, 0.7115, 0.7009,\n",
              "          0.6905, 0.6835, 0.6765, 0.7163],\n",
              "         [0.7651, 0.7217, 0.7307, 0.7373, 0.7441, 0.7520, 0.7572, 0.7596,\n",
              "          0.7575, 0.8611, 0.7932, 0.6405, 0.8541, 0.7321, 0.4840, 0.6115,\n",
              "          0.4894, 0.7340, 0.6253, 0.6107, 0.7308, 0.7246, 0.7194, 0.7067,\n",
              "          0.6986, 0.6930, 0.6829, 0.7200],\n",
              "         [0.7702, 0.7298, 0.7419, 0.7504, 0.7515, 0.7571, 0.7627, 0.7644,\n",
              "          0.7634, 0.8619, 0.8145, 0.6129, 0.7897, 0.6791, 0.5235, 0.5689,\n",
              "          0.5194, 0.6971, 0.5656, 0.6145, 0.7395, 0.7311, 0.7311, 0.7198,\n",
              "          0.7063, 0.6992, 0.6877, 0.7236],\n",
              "         [0.7731, 0.7333, 0.7501, 0.7598, 0.7619, 0.7667, 0.7735, 0.7755,\n",
              "          0.7703, 0.8683, 0.8244, 0.6060, 0.7601, 0.7788, 0.6607, 0.6570,\n",
              "          0.7361, 0.6433, 0.4766, 0.6062, 0.7470, 0.7415, 0.7397, 0.7300,\n",
              "          0.7173, 0.7084, 0.7005, 0.7292],\n",
              "         [0.7803, 0.7425, 0.7562, 0.7661, 0.7716, 0.7772, 0.7853, 0.7869,\n",
              "          0.7865, 0.8939, 0.8366, 0.7290, 0.7087, 0.6765, 0.7185, 0.7146,\n",
              "          0.7481, 0.6516, 0.4623, 0.5844, 0.7550, 0.7527, 0.7436, 0.7345,\n",
              "          0.7249, 0.7188, 0.7139, 0.7344],\n",
              "         [0.7857, 0.7519, 0.7614, 0.7720, 0.7795, 0.7852, 0.7930, 0.7927,\n",
              "          0.8062, 0.9326, 0.8685, 0.7303, 0.6154, 0.5670, 0.6339, 0.6400,\n",
              "          0.7295, 0.7404, 0.5492, 0.5713, 0.7595, 0.7567, 0.7497, 0.7437,\n",
              "          0.7353, 0.7283, 0.7236, 0.7384],\n",
              "         [0.7962, 0.7608, 0.7683, 0.7789, 0.7867, 0.7942, 0.7976, 0.7982,\n",
              "          0.8256, 0.9599, 0.8613, 0.6690, 0.5525, 0.5470, 0.5942, 0.6353,\n",
              "          0.8142, 0.8427, 0.6780, 0.5950, 0.7625, 0.7631, 0.7567, 0.7536,\n",
              "          0.7469, 0.7327, 0.7221, 0.7353],\n",
              "         [0.7973, 0.7658, 0.7763, 0.7849, 0.7925, 0.8019, 0.8045, 0.8049,\n",
              "          0.8447, 0.9687, 0.8495, 0.6453, 0.5374, 0.5607, 0.6472, 0.7540,\n",
              "          0.8591, 0.8658, 0.7467, 0.5874, 0.7299, 0.7715, 0.7537, 0.7251,\n",
              "          0.7073, 0.6471, 0.5496, 0.6368],\n",
              "         [0.7989, 0.7678, 0.7793, 0.7858, 0.7936, 0.7991, 0.8039, 0.8086,\n",
              "          0.8519, 0.9733, 0.8659, 0.6545, 0.5515, 0.5869, 0.6860, 0.8312,\n",
              "          0.8993, 0.8434, 0.7308, 0.5500, 0.6788, 0.7556, 0.5820, 0.4817,\n",
              "          0.4493, 0.3947, 0.3452, 0.5655],\n",
              "         [0.7989, 0.7647, 0.7767, 0.7855, 0.7954, 0.7989, 0.8028, 0.8095,\n",
              "          0.8439, 0.9725, 0.8849, 0.6788, 0.5622, 0.6192, 0.7184, 0.8763,\n",
              "          0.9149, 0.8298, 0.6990, 0.5179, 0.6845, 0.6413, 0.4226, 0.3916,\n",
              "          0.3717, 0.3501, 0.3414, 0.5592],\n",
              "         [0.8004, 0.7709, 0.7811, 0.7876, 0.7997, 0.8057, 0.8108, 0.8123,\n",
              "          0.8408, 0.9708, 0.9007, 0.7175, 0.5854, 0.6416, 0.7505, 0.9147,\n",
              "          0.9114, 0.8024, 0.6537, 0.5100, 0.6431, 0.4907, 0.3608, 0.3266,\n",
              "          0.3042, 0.2913, 0.3058, 0.5493],\n",
              "         [0.8028, 0.7784, 0.7892, 0.7968, 0.8067, 0.8115, 0.8168, 0.8176,\n",
              "          0.8394, 0.9602, 0.9093, 0.7519, 0.6211, 0.6364, 0.7657, 0.9326,\n",
              "          0.8834, 0.7556, 0.6154, 0.4715, 0.4537, 0.3496, 0.2947, 0.2483,\n",
              "          0.2108, 0.1780, 0.2274, 0.5359],\n",
              "         [0.8084, 0.7843, 0.7959, 0.8028, 0.8100, 0.8145, 0.8210, 0.8248,\n",
              "          0.8378, 0.9428, 0.9149, 0.7884, 0.6723, 0.6375, 0.7476, 0.9119,\n",
              "          0.8402, 0.7004, 0.5736, 0.4211, 0.3561, 0.3111, 0.2596, 0.2185,\n",
              "          0.2065, 0.1963, 0.2376, 0.5366],\n",
              "         [0.8119, 0.7835, 0.7957, 0.8038, 0.8107, 0.8182, 0.8257, 0.8293,\n",
              "          0.8348, 0.9140, 0.9279, 0.8250, 0.7242, 0.6641, 0.7005, 0.8559,\n",
              "          0.7827, 0.6306, 0.5190, 0.3836, 0.3422, 0.3344, 0.2802, 0.2049,\n",
              "          0.1894, 0.2016, 0.2194, 0.5103],\n",
              "         [0.7556, 0.7140, 0.7286, 0.7326, 0.7406, 0.7492, 0.7635, 0.7719,\n",
              "          0.7784, 0.8478, 0.9378, 0.8447, 0.7514, 0.6784, 0.6332, 0.7672,\n",
              "          0.7035, 0.5411, 0.4454, 0.3365, 0.3069, 0.3305, 0.3317, 0.2358,\n",
              "          0.1783, 0.1908, 0.2093, 0.4976],\n",
              "         [0.5617, 0.4596, 0.4660, 0.4625, 0.4623, 0.4683, 0.4773, 0.4887,\n",
              "          0.5028, 0.6108, 0.9405, 0.8575, 0.7469, 0.6421, 0.5607, 0.6235,\n",
              "          0.5803, 0.4467, 0.3607, 0.2649, 0.2650, 0.2896, 0.3480, 0.2902,\n",
              "          0.1924, 0.1703, 0.1971, 0.4916],\n",
              "         [0.5361, 0.4209, 0.4179, 0.4154, 0.4167, 0.4162, 0.4127, 0.4203,\n",
              "          0.3978, 0.4286, 0.8714, 0.8004, 0.6628, 0.5521, 0.4909, 0.5096,\n",
              "          0.4805, 0.3808, 0.2422, 0.1745, 0.2185, 0.2453, 0.3183, 0.3221,\n",
              "          0.2315, 0.1644, 0.1780, 0.4908],\n",
              "         [0.5491, 0.4269, 0.4296, 0.4264, 0.4323, 0.4326, 0.4330, 0.4380,\n",
              "          0.3963, 0.2552, 0.6048, 0.6484, 0.5450, 0.4699, 0.4480, 0.4281,\n",
              "          0.3992, 0.2762, 0.1146, 0.1069, 0.1878, 0.2146, 0.2748, 0.3332,\n",
              "          0.2809, 0.1870, 0.1570, 0.4802],\n",
              "         [0.5653, 0.4458, 0.4453, 0.4379, 0.4472, 0.4517, 0.4541, 0.4578,\n",
              "          0.4619, 0.3272, 0.4061, 0.5462, 0.5046, 0.4474, 0.4330, 0.3681,\n",
              "          0.3074, 0.1693, 0.0934, 0.1482, 0.2546, 0.2427, 0.2538, 0.3271,\n",
              "          0.3277, 0.2437, 0.1819, 0.4824],\n",
              "         [0.7822, 0.6822, 0.6749, 0.6725, 0.6757, 0.6784, 0.6790, 0.6801,\n",
              "          0.6824, 0.6579, 0.6527, 0.6838, 0.6824, 0.6756, 0.6680, 0.6401,\n",
              "          0.6141, 0.5686, 0.5584, 0.5850, 0.6220, 0.6086, 0.6050, 0.6293,\n",
              "          0.6379, 0.6134, 0.5933, 0.7271]]])"
            ]
          },
          "metadata": {},
          "execution_count": 11
        }
      ],
      "source": [
        "processed_image = preprocess_trans(image)\n",
        "processed_image"
      ]
    },
    {
      "cell_type": "markdown",
      "metadata": {
        "id": "xrtrwwRuL9-i"
      },
      "source": [
        "Los números parecen correctos, pero ¿y la forma?"
      ]
    },
    {
      "cell_type": "code",
      "execution_count": 12,
      "metadata": {
        "id": "Dmpv4NDnL9-j",
        "outputId": "f5536153-46a1-4463-faac-360f6323954b",
        "colab": {
          "base_uri": "https://localhost:8080/"
        }
      },
      "outputs": [
        {
          "output_type": "execute_result",
          "data": {
            "text/plain": [
              "torch.Size([1, 28, 28])"
            ]
          },
          "metadata": {},
          "execution_count": 12
        }
      ],
      "source": [
        "processed_image.shape"
      ]
    },
    {
      "cell_type": "markdown",
      "metadata": {
        "id": "UBQwvr_oL9-j"
      },
      "source": [
        "A continuación, vamos a trazar la imagen para ver si se parece a lo que hemos entrenado."
      ]
    },
    {
      "cell_type": "code",
      "execution_count": 13,
      "metadata": {
        "id": "vbVyXC5uL9-j",
        "outputId": "f3b83b6c-2178-4638-c2a7-e110562f64a1",
        "colab": {
          "base_uri": "https://localhost:8080/",
          "height": 447
        }
      },
      "outputs": [
        {
          "output_type": "execute_result",
          "data": {
            "text/plain": [
              "<matplotlib.image.AxesImage at 0x7ef3f5f58050>"
            ]
          },
          "metadata": {},
          "execution_count": 13
        },
        {
          "output_type": "display_data",
          "data": {
            "text/plain": [
              "<Figure size 640x480 with 1 Axes>"
            ],
            "image/png": "[encoded data removed]"
          },
          "metadata": {}
        }
      ],
      "source": [
        "plot_image = F.to_pil_image(processed_image)\n",
        "plt.imshow(plot_image, cmap='gray')"
      ]
    },
    {
      "cell_type": "markdown",
      "metadata": {
        "id": "NaptN5XrL9-k"
      },
      "source": [
        "¡Se ve bien! Pasémoslo a nuestro modelo."
      ]
    },
    {
      "cell_type": "markdown",
      "metadata": {
        "id": "ygDDddrVL9-m"
      },
      "source": [
        "### 4b.4 Hacer predicciones"
      ]
    },
    {
      "cell_type": "markdown",
      "metadata": {
        "id": "vYl2JcUJCsuy"
      },
      "source": [
        "Bien, ¡ahora estamos listos para predecir! Nuestro modelo sigue esperando un lote de imágenes. Si [squeeze](https://pytorch.org/docs/stable/generated/torch.squeeze.htmlhttps://pytorch.org/docs/stable/generated/torch.squeeze.html) elimina dimensiones de 1, [unsqueeze](https://pytorch.org/docs/stable/generated/torch.unsqueeze.htmlhttps://pytorch.org/docs/stable/generated/torch.unsqueeze.html) añade una dimensión de 1 en el índice que especifiquemos. La primera dimensión suele ser la dimensión del lote, por lo que podemos decir `.unsqueeze(0)`."
      ]
    },
    {
      "cell_type": "code",
      "execution_count": 14,
      "metadata": {
        "id": "L-xZGe1SCsux",
        "outputId": "03e6d10c-1691-43e5-f2b2-3b8686093079",
        "colab": {
          "base_uri": "https://localhost:8080/"
        }
      },
      "outputs": [
        {
          "output_type": "execute_result",
          "data": {
            "text/plain": [
              "torch.Size([1, 1, 28, 28])"
            ]
          },
          "metadata": {},
          "execution_count": 14
        }
      ],
      "source": [
        "batched_image = processed_image.unsqueeze(0)\n",
        "batched_image.shape"
      ]
    },
    {
      "cell_type": "markdown",
      "metadata": {
        "id": "McLAA39yL9-n"
      },
      "source": [
        "A continuación, debemos asegurarnos de que el tensor de entrada está en el mismo `dispositivo` que el modelo."
      ]
    },
    {
      "cell_type": "code",
      "execution_count": 15,
      "metadata": {
        "id": "J399TjATL9-n",
        "outputId": "5ae53e39-ad05-4410-c402-7114ec08fc6c",
        "colab": {
          "base_uri": "https://localhost:8080/"
        }
      },
      "outputs": [
        {
          "output_type": "execute_result",
          "data": {
            "text/plain": [
              "device(type='cpu')"
            ]
          },
          "metadata": {},
          "execution_count": 15
        }
      ],
      "source": [
        "batched_image_gpu = batched_image.to(device)\n",
        "batched_image_gpu.device"
      ]
    },
    {
      "cell_type": "markdown",
      "metadata": {
        "id": "0AgKK_X0L9-o"
      },
      "source": [
        "Ahora estamos listos para pasarlo al modelo."
      ]
    },
    {
      "cell_type": "code",
      "execution_count": 16,
      "metadata": {
        "id": "WhLIaQIhkE0c",
        "outputId": "22c1a02d-6cc5-4c1d-c1d1-d18a8d54459b",
        "colab": {
          "base_uri": "https://localhost:8080/"
        }
      },
      "outputs": [
        {
          "output_type": "execute_result",
          "data": {
            "text/plain": [
              "tensor([[-34.5003,  18.2607, -11.7280, -22.3193,  -4.9738, -13.0488,  -8.0585,\n",
              "         -29.5380, -15.0260, -16.6386, -18.8668, -10.8197, -26.3653, -27.8140,\n",
              "         -13.0507, -18.5632, -12.5391, -36.5896, -15.2774,   6.6090, -16.9730,\n",
              "           2.8577,  -4.3758, -35.1439]], grad_fn=<AddmmBackward0>)"
            ]
          },
          "metadata": {},
          "execution_count": 16
        }
      ],
      "source": [
        "output = model(batched_image_gpu)\n",
        "output"
      ]
    },
    {
      "cell_type": "markdown",
      "metadata": {
        "id": "CCleBaVCCsuz"
      },
      "source": [
        "### 4b.4.1 Comprender la predicción"
      ]
    },
    {
      "cell_type": "markdown",
      "metadata": {
        "id": "QNIv09wxCsuz"
      },
      "source": [
        "Las predicciones tienen el formato de una matriz de 24 longitudes. Cuanto mayor sea el valor, más probable es que la imagen de entrada pertenezca a la clase correspondiente. Hagámoslo un poco más legible. Podemos empezar por encontrar qué elemento de la matriz representa la mayor probabilidad. Esto puede hacerse fácilmente con la biblioteca numpy y la función [argmax](https://numpy.org/doc/stable/reference/generated/numpy.argmax.html)."
      ]
    },
    {
      "cell_type": "code",
      "execution_count": 17,
      "metadata": {
        "id": "gm6J4jxcCsuz",
        "outputId": "ba40bfb3-82cd-4e92-8052-1b80c2851a1c",
        "colab": {
          "base_uri": "https://localhost:8080/"
        }
      },
      "outputs": [
        {
          "output_type": "execute_result",
          "data": {
            "text/plain": [
              "1"
            ]
          },
          "metadata": {},
          "execution_count": 17
        }
      ],
      "source": [
        "prediction = output.argmax(dim=1).item()\n",
        "prediction"
      ]
    },
    {
      "cell_type": "markdown",
      "metadata": {
        "id": "BpZzxObRCsuz"
      },
      "source": [
        "Cada elemento de la matriz de predicción representa una letra posible del alfabeto de la lengua de signos. Recuerda que j y z no son opciones porque implican mover la mano, y sólo estamos tratando con fotos fijas. Creemos una correspondencia entre el índice de la matriz de predicciones y la letra correspondiente."
      ]
    },
    {
      "cell_type": "code",
      "execution_count": 18,
      "metadata": {
        "id": "1ExBb6fMCsuz"
      },
      "outputs": [],
      "source": [
        "# Alphabet does not contain j or z because they require movement\n",
        "alphabet = \"abcdefghiklmnopqrstuvwxy\""
      ]
    },
    {
      "cell_type": "markdown",
      "metadata": {
        "id": "uXy2Ze9kCsuz"
      },
      "source": [
        "Ahora podemos pasar nuestro índice de predicción para encontrar la letra correspondiente."
      ]
    },
    {
      "cell_type": "code",
      "execution_count": 19,
      "metadata": {
        "id": "VNxyHNZmCsuz",
        "outputId": "d899aa2d-818f-4fd3-dcca-90c9ddae9efe",
        "colab": {
          "base_uri": "https://localhost:8080/",
          "height": 36
        }
      },
      "outputs": [
        {
          "output_type": "execute_result",
          "data": {
            "text/plain": [
              "'b'"
            ],
            "application/vnd.google.colaboratory.intrinsic+json": {
              "type": "string"
            }
          },
          "metadata": {},
          "execution_count": 19
        }
      ],
      "source": [
        "alphabet[prediction]"
      ]
    },
    {
      "cell_type": "markdown",
      "metadata": {
        "id": "Hs2_6guPCsuz"
      },
      "source": [
        "#### Ejercicio: Póngalo todo junto"
      ]
    },
    {
      "cell_type": "markdown",
      "metadata": {
        "id": "KobsgLirCsuz"
      },
      "source": [
        "Pongamos todo en una función para que podamos hacer predicciones sólo a partir del archivo de imagen. Impleméntalo en la función de abajo usando las funciones y pasos anteriores. Si necesitas ayuda, puedes revelar la solución haciendo clic en los tres puntos de abajo."
      ]
    },
    {
      "cell_type": "code",
      "execution_count": 20,
      "metadata": {
        "id": "f3prZEMgCsuz"
      },
      "outputs": [],
      "source": [
        "def predict_letter(file_path):\n",
        "    # Show image\n",
        "    FIXME\n",
        "    # Load and grayscale image\n",
        "    image = FIXME\n",
        "    # Transform image\n",
        "    image = FIXME\n",
        "    # Batch image\n",
        "    image = FIXME\n",
        "    # Send image to correct device\n",
        "    image = FIXME\n",
        "    # Make prediction\n",
        "    output = FIXME\n",
        "    # Find max index\n",
        "    prediction = FIXME\n",
        "    # Convert prediction to letter\n",
        "    predicted_letter = FIXME\n",
        "    # Return prediction\n",
        "    return predicted_letter"
      ]
    },
    {
      "cell_type": "code",
      "execution_count": 21,
      "metadata": {
        "id": "MWqiMAhwCsu_",
        "outputId": "788fade0-f32e-47ac-8f86-3889b726f17f",
        "colab": {
          "base_uri": "https://localhost:8080/",
          "height": 263
        }
      },
      "outputs": [
        {
          "output_type": "error",
          "ename": "NameError",
          "evalue": "name 'FIXME' is not defined",
          "traceback": [
            "\u001b[0;31m---------------------------------------------------------------------------\u001b[0m",
            "\u001b[0;31mNameError\u001b[0m                                 Traceback (most recent call last)",
            "\u001b[0;32m<ipython-input-21-88eb90b87122>\u001b[0m in \u001b[0;36m<cell line: 0>\u001b[0;34m()\u001b[0m\n\u001b[0;32m----> 1\u001b[0;31m \u001b[0mpredict_letter\u001b[0m\u001b[0;34m(\u001b[0m\u001b[0;34m\"b.png\"\u001b[0m\u001b[0;34m)\u001b[0m\u001b[0;34m\u001b[0m\u001b[0;34m\u001b[0m\u001b[0m\n\u001b[0m",
            "\u001b[0;32m<ipython-input-20-c64ac1005117>\u001b[0m in \u001b[0;36mpredict_letter\u001b[0;34m(file_path)\u001b[0m\n\u001b[1;32m      1\u001b[0m \u001b[0;32mdef\u001b[0m \u001b[0mpredict_letter\u001b[0m\u001b[0;34m(\u001b[0m\u001b[0mfile_path\u001b[0m\u001b[0;34m)\u001b[0m\u001b[0;34m:\u001b[0m\u001b[0;34m\u001b[0m\u001b[0;34m\u001b[0m\u001b[0m\n\u001b[1;32m      2\u001b[0m     \u001b[0;31m# Show image\u001b[0m\u001b[0;34m\u001b[0m\u001b[0;34m\u001b[0m\u001b[0m\n\u001b[0;32m----> 3\u001b[0;31m     \u001b[0mFIXME\u001b[0m\u001b[0;34m\u001b[0m\u001b[0;34m\u001b[0m\u001b[0m\n\u001b[0m\u001b[1;32m      4\u001b[0m     \u001b[0;31m# Load and grayscale image\u001b[0m\u001b[0;34m\u001b[0m\u001b[0;34m\u001b[0m\u001b[0m\n\u001b[1;32m      5\u001b[0m     \u001b[0mimage\u001b[0m \u001b[0;34m=\u001b[0m \u001b[0mFIXME\u001b[0m\u001b[0;34m\u001b[0m\u001b[0;34m\u001b[0m\u001b[0m\n",
            "\u001b[0;31mNameError\u001b[0m: name 'FIXME' is not defined"
          ]
        }
      ],
      "source": [
        "predict_letter(\"b.png\")"
      ]
    },
    {
      "cell_type": "markdown",
      "metadata": {
        "id": "JNZSUoinCsvA"
      },
      "source": [
        "Utilicemos también la función con la letra 'a' en el datset asl_images:"
      ]
    },
    {
      "cell_type": "code",
      "execution_count": null,
      "metadata": {
        "id": "xk0F5w53CsvA"
      },
      "outputs": [],
      "source": [
        "predict_letter(\"a.png\")"
      ]
    },
    {
      "cell_type": "markdown",
      "metadata": {
        "id": "cFaxufFbCsvA"
      },
      "source": [
        "## 4b.5 Resumen"
      ]
    },
    {
      "cell_type": "markdown",
      "metadata": {
        "id": "ZtsAm4TJCsvA"
      },
      "source": [
        "Buen trabajo con estos ejercicios. Has pasado por todo el proceso de entrenamiento de un modelo de alta precisión desde cero, y luego has utilizado el modelo para hacer nuevas y valiosas predicciones. Si tienes algo de tiempo, te animamos a que tomes fotos con tu webcam, las subas soltándolas en la carpeta data/asl_images, y pruebes el modelo con ellas. Para Mac puedes utilizar Photo Booth. Para Windows puedes seleccionar la aplicación Cámara en la pantalla de inicio. Esperamos que lo pruebes. Es una buena oportunidad para aprender algo de lenguaje de signos. Por ejemplo, prueba con las letras de tu nombre.\n",
        "\n",
        "Podemos imaginar cómo se podría utilizar este modelo en una aplicación para enseñar a alguien el lenguaje de signos, o incluso ayudar a alguien que no puede hablar a interactuar con un ordenador."
      ]
    },
    {
      "cell_type": "markdown",
      "source": [
        "# Preguntas\n",
        "\n",
        "1. ¿Por qué es importante que las imágenes utilizadas para hacer predicciones tengan el mismo formato (dimensiones y color) que las imágenes con las que se entrenó el modelo?\n",
        "\n",
        "2. Describe los pasos necesarios para procesar una imagen antes de hacer una predicción con el modelo entrenado. ¿Qué transformaciones se deben aplicar?\n",
        "\n",
        "3. ¿Qué es la \"dimensión del lote\" (batch) y por qué es necesario agregarla cuando hacemos predicciones con el modelo?\n",
        "\n",
        "4. ¿Cómo interpreta el modelo las predicciones que genera? Explica el formato de salida y cómo se convierte en una letra del alfabeto de lengua de signos."
      ],
      "metadata": {
        "id": "5Fji1dpZSzkw"
      }
    }
  ],
  "metadata": {
    "colab": {
      "provenance": [],
      "include_colab_link": true
    },
    "kernelspec": {
      "display_name": "Python 3 (ipykernel)",
      "language": "python",
      "name": "python3"
    },
    "language_info": {
      "codemirror_mode": {
        "name": "ipython",
        "version": 3
      },
      "file_extension": ".py",
      "mimetype": "text/x-python",
      "name": "python",
      "nbconvert_exporter": "python",
      "pygments_lexer": "ipython3",
      "version": "3.10.12"
    }
  },
  "nbformat": 4,
  "nbformat_minor": 0
}